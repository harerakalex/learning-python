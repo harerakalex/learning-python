{
 "cells": [
  {
   "cell_type": "code",
   "execution_count": 1,
   "id": "208ec5fb",
   "metadata": {},
   "outputs": [],
   "source": [
    "import requests"
   ]
  },
  {
   "cell_type": "code",
   "execution_count": 2,
   "id": "e8119775",
   "metadata": {},
   "outputs": [],
   "source": [
    "urls = [\n",
    "    \"https://httpbin.org/ip\",\n",
    "    \"https://httpbin.org/xml\",\n",
    "    \"https://httpbin.org/json\",\n",
    "    \"https://httpbin.org/image\",\n",
    "    \"https://httpbin.org/headers\"\n",
    "]"
   ]
  },
  {
   "cell_type": "code",
   "execution_count": 13,
   "id": "9a99f1af",
   "metadata": {},
   "outputs": [
    {
     "name": "stdout",
     "output_type": "stream",
     "text": [
      "2.88 s ± 0 ns per loop (mean ± std. dev. of 1 run, 1 loop each)\n"
     ]
    }
   ],
   "source": [
    "%%timeit -r 1\n",
    "\n",
    "with requests.Session() as session:\n",
    "    list(map(session.get, urls)) "
   ]
  },
  {
   "cell_type": "code",
   "execution_count": 15,
   "id": "d210f6e2",
   "metadata": {},
   "outputs": [
    {
     "name": "stdout",
     "output_type": "stream",
     "text": [
      "response one status: 200\n",
      "b'{\\n  \"args\": {}, \\n  \"headers\": {\\n    \"Accept\": \"*/*\", \\n    \"Accept-Encoding\": \"gzip, deflate, br\", \\n    \"Host\": \"httpbin.org\", \\n    \"User-Agent\": \"python-requests/2.26.0\", \\n    \"X-Amzn-Trace-Id\": \"Root=1-61a76ef9-67f9f52d0a0c9e632bc43497\"\\n  }, \\n  \"origin\": \"41.215.251.233\", \\n  \"url\": \"http://httpbin.org/get\"\\n}\\n'\n",
      "response two status: 200\n",
      "b'{\\n  \"args\": {\\n    \"foo\": \"bar\"\\n  }, \\n  \"headers\": {\\n    \"Accept\": \"*/*\", \\n    \"Accept-Encoding\": \"gzip, deflate, br\", \\n    \"Host\": \"httpbin.org\", \\n    \"User-Agent\": \"python-requests/2.26.0\", \\n    \"X-Amzn-Trace-Id\": \"Root=1-61a76efa-46e125c35de80d377afd65ec\"\\n  }, \\n  \"origin\": \"41.215.251.233\", \\n  \"url\": \"http://httpbin.org/get?foo=bar\"\\n}\\n'\n",
      "response one status: 200\n",
      "b'{\\n  \"args\": {}, \\n  \"headers\": {\\n    \"Accept\": \"*/*\", \\n    \"Accept-Encoding\": \"gzip, deflate, br\", \\n    \"Host\": \"httpbin.org\", \\n    \"User-Agent\": \"python-requests/2.26.0\", \\n    \"X-Amzn-Trace-Id\": \"Root=1-61a76efa-654116d55f38d60941c23b11\"\\n  }, \\n  \"origin\": \"41.215.251.233\", \\n  \"url\": \"http://httpbin.org/get\"\\n}\\n'\n",
      "response two status: 200\n",
      "b'{\\n  \"args\": {\\n    \"foo\": \"bar\"\\n  }, \\n  \"headers\": {\\n    \"Accept\": \"*/*\", \\n    \"Accept-Encoding\": \"gzip, deflate, br\", \\n    \"Host\": \"httpbin.org\", \\n    \"User-Agent\": \"python-requests/2.26.0\", \\n    \"X-Amzn-Trace-Id\": \"Root=1-61a76efa-4b811e8431743967600d7d34\"\\n  }, \\n  \"origin\": \"41.215.251.233\", \\n  \"url\": \"http://httpbin.org/get?foo=bar\"\\n}\\n'\n",
      "790 ms ± 0 ns per loop (mean ± std. dev. of 1 run, 1 loop each)\n"
     ]
    }
   ],
   "source": [
    "%%timeit -r 1\n",
    "from requests import Session\n",
    "\n",
    "session = Session()\n",
    "# first requests starts and blocks until finished\n",
    "response_one = session.get('http://httpbin.org/get')\n",
    "# second request starts once first is finished\n",
    "response_two = session.get('http://httpbin.org/get?foo=bar')\n",
    "# both requests are complete\n",
    "print('response one status: {0}'.format(response_one.status_code))\n",
    "print(response_one.content)\n",
    "print('response two status: {0}'.format(response_two.status_code))\n",
    "print(response_two.content)"
   ]
  }
 ],
 "metadata": {
  "kernelspec": {
   "display_name": "Python 3",
   "language": "python",
   "name": "python3"
  },
  "language_info": {
   "codemirror_mode": {
    "name": "ipython",
    "version": 3
   },
   "file_extension": ".py",
   "mimetype": "text/x-python",
   "name": "python",
   "nbconvert_exporter": "python",
   "pygments_lexer": "ipython3",
   "version": "3.8.8"
  }
 },
 "nbformat": 4,
 "nbformat_minor": 5
}
