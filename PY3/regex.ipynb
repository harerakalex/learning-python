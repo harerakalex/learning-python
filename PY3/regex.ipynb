{
 "cells": [
  {
   "cell_type": "markdown",
   "id": "9babedb8",
   "metadata": {},
   "source": [
    "# Regex"
   ]
  },
  {
   "cell_type": "code",
   "execution_count": 3,
   "id": "872d2a9f",
   "metadata": {},
   "outputs": [
    {
     "name": "stdout",
     "output_type": "stream",
     "text": [
      "Wonderful!\n"
     ]
    }
   ],
   "source": [
    "import re\n",
    "\n",
    "text = \"This is a good day.\"\n",
    "\n",
    "# Search for good in text\n",
    "if re.search(\"good\", text):\n",
    "    print(\"Wonderful!\")\n",
    "else:\n",
    "    print(\"nop\")"
   ]
  },
  {
   "cell_type": "code",
   "execution_count": 5,
   "id": "4d48b046",
   "metadata": {},
   "outputs": [
    {
     "name": "stdout",
     "output_type": "stream",
     "text": [
      "['', ' works diligently. ', ' gets good grades. Our students ', ' is successful.']\n"
     ]
    },
    {
     "data": {
      "text/plain": [
       "['',\n",
       " ' works diligently. ',\n",
       " ' gets good grades. Our students ',\n",
       " ' is successful.']"
      ]
     },
     "execution_count": 5,
     "metadata": {},
     "output_type": "execute_result"
    }
   ],
   "source": [
    "text  = \"Amy works diligently. Amy gets good grades. Our students Amy is successful.\"\n",
    "print(text.split(\"Amy\"))\n",
    "re.split(\"Amy\", text)"
   ]
  },
  {
   "cell_type": "code",
   "execution_count": 6,
   "id": "a2ccac45",
   "metadata": {},
   "outputs": [
    {
     "data": {
      "text/plain": [
       "['Amy', 'Amy', 'Amy']"
      ]
     },
     "execution_count": 6,
     "metadata": {},
     "output_type": "execute_result"
    }
   ],
   "source": [
    "re.findall(\"Amy\", text)"
   ]
  },
  {
   "cell_type": "code",
   "execution_count": 10,
   "id": "9f4b50ce",
   "metadata": {},
   "outputs": [
    {
     "data": {
      "text/plain": [
       "<re.Match object; span=(0, 3), match='Amy'>"
      ]
     },
     "execution_count": 10,
     "metadata": {},
     "output_type": "execute_result"
    }
   ],
   "source": [
    "text  = \"Amy works diligently. Amy gets good grades. Our students Amy is successful.\"\n",
    "re.search(\"^Amy\", text)"
   ]
  },
  {
   "cell_type": "code",
   "execution_count": 21,
   "id": "8b1fc7f9",
   "metadata": {},
   "outputs": [
    {
     "data": {
      "text/plain": [
       "['B', 'B', 'B']"
      ]
     },
     "execution_count": 21,
     "metadata": {},
     "output_type": "execute_result"
    }
   ],
   "source": [
    "grades = 'ACAAAABCBCBAA'\n",
    "re.findall('B', grades)"
   ]
  },
  {
   "cell_type": "code",
   "execution_count": 17,
   "id": "38d2cbfb",
   "metadata": {},
   "outputs": [
    {
     "data": {
      "text/plain": [
       "['A', 'A', 'A', 'A', 'A', 'B', 'B', 'B', 'A', 'A']"
      ]
     },
     "execution_count": 17,
     "metadata": {},
     "output_type": "execute_result"
    }
   ],
   "source": [
    "re.findall('[AB]', grades)"
   ]
  },
  {
   "cell_type": "code",
   "execution_count": 22,
   "id": "ab2aeed0",
   "metadata": {},
   "outputs": [
    {
     "data": {
      "text/plain": [
       "['AC', 'AB']"
      ]
     },
     "execution_count": 22,
     "metadata": {},
     "output_type": "execute_result"
    }
   ],
   "source": [
    "re.findall('[A][B-C]', grades)"
   ]
  },
  {
   "cell_type": "code",
   "execution_count": 23,
   "id": "c33d006d",
   "metadata": {},
   "outputs": [
    {
     "data": {
      "text/plain": [
       "['AC', 'AB']"
      ]
     },
     "execution_count": 23,
     "metadata": {},
     "output_type": "execute_result"
    }
   ],
   "source": [
    "re.findall('AB|AC', grades)"
   ]
  },
  {
   "cell_type": "code",
   "execution_count": 26,
   "id": "9ae0ac73",
   "metadata": {},
   "outputs": [
    {
     "data": {
      "text/plain": [
       "['C', 'B', 'C', 'B', 'C', 'B']"
      ]
     },
     "execution_count": 26,
     "metadata": {},
     "output_type": "execute_result"
    }
   ],
   "source": [
    "re.findall('[^A]', grades)"
   ]
  },
  {
   "cell_type": "code",
   "execution_count": 27,
   "id": "3ed34b7e",
   "metadata": {},
   "outputs": [
    {
     "data": {
      "text/plain": [
       "[]"
      ]
     },
     "execution_count": 27,
     "metadata": {},
     "output_type": "execute_result"
    }
   ],
   "source": [
    "re.findall('^[^A]', grades)"
   ]
  },
  {
   "cell_type": "code",
   "execution_count": 35,
   "id": "6dd1be8c",
   "metadata": {},
   "outputs": [
    {
     "data": {
      "text/plain": [
       "['AAAA', 'AA']"
      ]
     },
     "execution_count": 35,
     "metadata": {},
     "output_type": "execute_result"
    }
   ],
   "source": [
    "re.findall(\"A{2,10}\", grades)"
   ]
  },
  {
   "cell_type": "code",
   "execution_count": 36,
   "id": "92065776",
   "metadata": {},
   "outputs": [
    {
     "data": {
      "text/plain": [
       "['AA', 'AA', 'AA']"
      ]
     },
     "execution_count": 36,
     "metadata": {},
     "output_type": "execute_result"
    }
   ],
   "source": [
    "re.findall(\"A{2}\", grades)"
   ]
  },
  {
   "cell_type": "code",
   "execution_count": 40,
   "id": "0bfbe6c0",
   "metadata": {},
   "outputs": [
    {
     "data": {
      "text/plain": [
       "['ABC']"
      ]
     },
     "execution_count": 40,
     "metadata": {},
     "output_type": "execute_result"
    }
   ],
   "source": [
    "grades = 'ACAAAABCBCBAA'\n",
    "re.findall('A{1,1}B{1,10}C{1,10}', grades)"
   ]
  },
  {
   "cell_type": "code",
   "execution_count": 44,
   "id": "e6904841",
   "metadata": {},
   "outputs": [
    {
     "data": {
      "text/plain": [
       "['AAABBABABBABBABCAACA[edit]']"
      ]
     },
     "execution_count": 44,
     "metadata": {},
     "output_type": "execute_result"
    }
   ],
   "source": [
    "text = '''AAABBABABBABBABCAACA[edit]\n",
    "BBBBB\n",
    "AAAAAA'''\n",
    "\n",
    "re.findall(\"[\\w]*\\[edit\\]\", text)"
   ]
  }
 ],
 "metadata": {
  "kernelspec": {
   "display_name": "Python 3",
   "language": "python",
   "name": "python3"
  },
  "language_info": {
   "codemirror_mode": {
    "name": "ipython",
    "version": 3
   },
   "file_extension": ".py",
   "mimetype": "text/x-python",
   "name": "python",
   "nbconvert_exporter": "python",
   "pygments_lexer": "ipython3",
   "version": "3.8.8"
  }
 },
 "nbformat": 4,
 "nbformat_minor": 5
}
