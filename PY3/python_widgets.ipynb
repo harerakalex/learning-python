{
 "cells": [
  {
   "cell_type": "code",
   "execution_count": 2,
   "id": "d5baea71",
   "metadata": {},
   "outputs": [
    {
     "data": {
      "application/vnd.jupyter.widget-view+json": {
       "model_id": "130f5a7df949436fa8437cee3f3687ef",
       "version_major": 2,
       "version_minor": 0
      },
      "text/plain": [
       "interactive(children=(IntSlider(value=100, description='left', max=300, min=-100), IntSlider(value=100, descri…"
      ]
     },
     "metadata": {},
     "output_type": "display_data"
    }
   ],
   "source": [
    "from PIL import Image, ImageDraw\n",
    "from ipywidgets import interact\n",
    "\n",
    "image=Image.open('readonly/storefront.jpg')\n",
    "\n",
    "@interact(left=100, top=100, right=200, bottom=200)\n",
    "\n",
    "def draw_border(left, top, right, bottom):\n",
    "    img=image.copy()\n",
    "    drawing_object=ImageDraw.Draw(img)\n",
    "    drawing_object.rectangle((left,top,right,bottom), fill = None, outline ='red')\n",
    "    display(img)"
   ]
  }
 ],
 "metadata": {
  "kernelspec": {
   "display_name": "Python 3",
   "language": "python",
   "name": "python3"
  },
  "language_info": {
   "codemirror_mode": {
    "name": "ipython",
    "version": 3
   },
   "file_extension": ".py",
   "mimetype": "text/x-python",
   "name": "python",
   "nbconvert_exporter": "python",
   "pygments_lexer": "ipython3",
   "version": "3.8.8"
  }
 },
 "nbformat": 4,
 "nbformat_minor": 5
}
