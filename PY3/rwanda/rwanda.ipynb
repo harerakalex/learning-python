{
 "cells": [
  {
   "cell_type": "markdown",
   "id": "c71e7f9c",
   "metadata": {},
   "source": [
    "# Preparing the dataset of rwanda to be used in my package"
   ]
  },
  {
   "cell_type": "code",
   "execution_count": 153,
   "id": "1aee164d",
   "metadata": {},
   "outputs": [
    {
     "data": {
      "text/html": [
       "<div>\n",
       "<style scoped>\n",
       "    .dataframe tbody tr th:only-of-type {\n",
       "        vertical-align: middle;\n",
       "    }\n",
       "\n",
       "    .dataframe tbody tr th {\n",
       "        vertical-align: top;\n",
       "    }\n",
       "\n",
       "    .dataframe thead th {\n",
       "        text-align: right;\n",
       "    }\n",
       "</style>\n",
       "<table border=\"1\" class=\"dataframe\">\n",
       "  <thead>\n",
       "    <tr style=\"text-align: right;\">\n",
       "      <th></th>\n",
       "      <th>DISTRICT</th>\n",
       "      <th>VILLAGE_ID</th>\n",
       "      <th>CELL_ID</th>\n",
       "      <th>SECTOR_ID</th>\n",
       "      <th>DISTR_ID</th>\n",
       "      <th>PROV_ID</th>\n",
       "      <th>NAME</th>\n",
       "      <th>CELL</th>\n",
       "      <th>SECTOR</th>\n",
       "      <th>PROVINCE</th>\n",
       "      <th>CPU</th>\n",
       "    </tr>\n",
       "  </thead>\n",
       "  <tbody>\n",
       "    <tr>\n",
       "      <th>0</th>\n",
       "      <td>Nyarugenge</td>\n",
       "      <td>11010102</td>\n",
       "      <td>110101</td>\n",
       "      <td>1101</td>\n",
       "      <td>11</td>\n",
       "      <td>1</td>\n",
       "      <td>Gihanga</td>\n",
       "      <td>Akabahizi</td>\n",
       "      <td>Gitega</td>\n",
       "      <td>Kigali Town/Umujyi wa Kigali</td>\n",
       "      <td>NaN</td>\n",
       "    </tr>\n",
       "    <tr>\n",
       "      <th>1</th>\n",
       "      <td>Nyarugenge</td>\n",
       "      <td>11010103</td>\n",
       "      <td>110101</td>\n",
       "      <td>1101</td>\n",
       "      <td>11</td>\n",
       "      <td>1</td>\n",
       "      <td>Iterambere</td>\n",
       "      <td>Akabahizi</td>\n",
       "      <td>Gitega</td>\n",
       "      <td>Kigali Town/Umujyi wa Kigali</td>\n",
       "      <td>NaN</td>\n",
       "    </tr>\n",
       "    <tr>\n",
       "      <th>2</th>\n",
       "      <td>Nyarugenge</td>\n",
       "      <td>11010104</td>\n",
       "      <td>110101</td>\n",
       "      <td>1101</td>\n",
       "      <td>11</td>\n",
       "      <td>1</td>\n",
       "      <td>Izuba</td>\n",
       "      <td>Akabahizi</td>\n",
       "      <td>Gitega</td>\n",
       "      <td>Kigali Town/Umujyi wa Kigali</td>\n",
       "      <td>NaN</td>\n",
       "    </tr>\n",
       "    <tr>\n",
       "      <th>3</th>\n",
       "      <td>Nyarugenge</td>\n",
       "      <td>11010105</td>\n",
       "      <td>110101</td>\n",
       "      <td>1101</td>\n",
       "      <td>11</td>\n",
       "      <td>1</td>\n",
       "      <td>Nyaburanga</td>\n",
       "      <td>Akabahizi</td>\n",
       "      <td>Gitega</td>\n",
       "      <td>Kigali Town/Umujyi wa Kigali</td>\n",
       "      <td>NaN</td>\n",
       "    </tr>\n",
       "    <tr>\n",
       "      <th>4</th>\n",
       "      <td>Nyarugenge</td>\n",
       "      <td>11010106</td>\n",
       "      <td>110101</td>\n",
       "      <td>1101</td>\n",
       "      <td>11</td>\n",
       "      <td>1</td>\n",
       "      <td>Nyenyeri</td>\n",
       "      <td>Akabahizi</td>\n",
       "      <td>Gitega</td>\n",
       "      <td>Kigali Town/Umujyi wa Kigali</td>\n",
       "      <td>NaN</td>\n",
       "    </tr>\n",
       "    <tr>\n",
       "      <th>5</th>\n",
       "      <td>Nyarugenge</td>\n",
       "      <td>11010107</td>\n",
       "      <td>110101</td>\n",
       "      <td>1101</td>\n",
       "      <td>11</td>\n",
       "      <td>1</td>\n",
       "      <td>Ubukorikori</td>\n",
       "      <td>Akabahizi</td>\n",
       "      <td>Gitega</td>\n",
       "      <td>Kigali Town/Umujyi wa Kigali</td>\n",
       "      <td>NaN</td>\n",
       "    </tr>\n",
       "    <tr>\n",
       "      <th>6</th>\n",
       "      <td>Nyarugenge</td>\n",
       "      <td>11010108</td>\n",
       "      <td>110101</td>\n",
       "      <td>1101</td>\n",
       "      <td>11</td>\n",
       "      <td>1</td>\n",
       "      <td>Ubumwe</td>\n",
       "      <td>Akabahizi</td>\n",
       "      <td>Gitega</td>\n",
       "      <td>Kigali Town/Umujyi wa Kigali</td>\n",
       "      <td>NaN</td>\n",
       "    </tr>\n",
       "    <tr>\n",
       "      <th>7</th>\n",
       "      <td>Nyarugenge</td>\n",
       "      <td>11010109</td>\n",
       "      <td>110101</td>\n",
       "      <td>1101</td>\n",
       "      <td>11</td>\n",
       "      <td>1</td>\n",
       "      <td>Ubwiyunge</td>\n",
       "      <td>Akabahizi</td>\n",
       "      <td>Gitega</td>\n",
       "      <td>Kigali Town/Umujyi wa Kigali</td>\n",
       "      <td>NaN</td>\n",
       "    </tr>\n",
       "    <tr>\n",
       "      <th>8</th>\n",
       "      <td>Nyarugenge</td>\n",
       "      <td>11010110</td>\n",
       "      <td>110101</td>\n",
       "      <td>1101</td>\n",
       "      <td>11</td>\n",
       "      <td>1</td>\n",
       "      <td>Umucyo</td>\n",
       "      <td>Akabahizi</td>\n",
       "      <td>Gitega</td>\n",
       "      <td>Kigali Town/Umujyi wa Kigali</td>\n",
       "      <td>NaN</td>\n",
       "    </tr>\n",
       "    <tr>\n",
       "      <th>9</th>\n",
       "      <td>Nyarugenge</td>\n",
       "      <td>11010111</td>\n",
       "      <td>110101</td>\n",
       "      <td>1101</td>\n",
       "      <td>11</td>\n",
       "      <td>1</td>\n",
       "      <td>Umurabyo</td>\n",
       "      <td>Akabahizi</td>\n",
       "      <td>Gitega</td>\n",
       "      <td>Kigali Town/Umujyi wa Kigali</td>\n",
       "      <td>NaN</td>\n",
       "    </tr>\n",
       "  </tbody>\n",
       "</table>\n",
       "</div>"
      ],
      "text/plain": [
       "     DISTRICT  VILLAGE_ID  CELL_ID  SECTOR_ID  DISTR_ID  PROV_ID         NAME  \\\n",
       "0  Nyarugenge    11010102   110101       1101        11        1      Gihanga   \n",
       "1  Nyarugenge    11010103   110101       1101        11        1   Iterambere   \n",
       "2  Nyarugenge    11010104   110101       1101        11        1        Izuba   \n",
       "3  Nyarugenge    11010105   110101       1101        11        1   Nyaburanga   \n",
       "4  Nyarugenge    11010106   110101       1101        11        1     Nyenyeri   \n",
       "5  Nyarugenge    11010107   110101       1101        11        1  Ubukorikori   \n",
       "6  Nyarugenge    11010108   110101       1101        11        1       Ubumwe   \n",
       "7  Nyarugenge    11010109   110101       1101        11        1    Ubwiyunge   \n",
       "8  Nyarugenge    11010110   110101       1101        11        1       Umucyo   \n",
       "9  Nyarugenge    11010111   110101       1101        11        1     Umurabyo   \n",
       "\n",
       "        CELL  SECTOR                      PROVINCE  CPU  \n",
       "0  Akabahizi  Gitega  Kigali Town/Umujyi wa Kigali  NaN  \n",
       "1  Akabahizi  Gitega  Kigali Town/Umujyi wa Kigali  NaN  \n",
       "2  Akabahizi  Gitega  Kigali Town/Umujyi wa Kigali  NaN  \n",
       "3  Akabahizi  Gitega  Kigali Town/Umujyi wa Kigali  NaN  \n",
       "4  Akabahizi  Gitega  Kigali Town/Umujyi wa Kigali  NaN  \n",
       "5  Akabahizi  Gitega  Kigali Town/Umujyi wa Kigali  NaN  \n",
       "6  Akabahizi  Gitega  Kigali Town/Umujyi wa Kigali  NaN  \n",
       "7  Akabahizi  Gitega  Kigali Town/Umujyi wa Kigali  NaN  \n",
       "8  Akabahizi  Gitega  Kigali Town/Umujyi wa Kigali  NaN  \n",
       "9  Akabahizi  Gitega  Kigali Town/Umujyi wa Kigali  NaN  "
      ]
     },
     "execution_count": 153,
     "metadata": {},
     "output_type": "execute_result"
    }
   ],
   "source": [
    "import pandas as pd\n",
    "\n",
    "df = pd.read_csv('Village.csv', sep=';')\n",
    "df.head(10)"
   ]
  },
  {
   "cell_type": "code",
   "execution_count": 154,
   "id": "614d0a24",
   "metadata": {},
   "outputs": [
    {
     "data": {
      "text/plain": [
       "(14815, 11)"
      ]
     },
     "execution_count": 154,
     "metadata": {},
     "output_type": "execute_result"
    }
   ],
   "source": [
    "df.shape"
   ]
  },
  {
   "cell_type": "code",
   "execution_count": 155,
   "id": "87653c27",
   "metadata": {},
   "outputs": [
    {
     "data": {
      "text/plain": [
       "Index(['DISTRICT', 'VILLAGE_ID', 'CELL_ID', 'SECTOR_ID', 'DISTR_ID', 'PROV_ID',\n",
       "       'NAME', 'CELL', 'SECTOR', 'PROVINCE', 'CPU'],\n",
       "      dtype='object')"
      ]
     },
     "execution_count": 155,
     "metadata": {},
     "output_type": "execute_result"
    }
   ],
   "source": [
    "df.columns"
   ]
  },
  {
   "cell_type": "code",
   "execution_count": 156,
   "id": "2b3aeecc",
   "metadata": {},
   "outputs": [
    {
     "data": {
      "text/html": [
       "<div>\n",
       "<style scoped>\n",
       "    .dataframe tbody tr th:only-of-type {\n",
       "        vertical-align: middle;\n",
       "    }\n",
       "\n",
       "    .dataframe tbody tr th {\n",
       "        vertical-align: top;\n",
       "    }\n",
       "\n",
       "    .dataframe thead th {\n",
       "        text-align: right;\n",
       "    }\n",
       "</style>\n",
       "<table border=\"1\" class=\"dataframe\">\n",
       "  <thead>\n",
       "    <tr style=\"text-align: right;\">\n",
       "      <th></th>\n",
       "      <th>District</th>\n",
       "      <th>VILLAGE_ID</th>\n",
       "      <th>CELL_ID</th>\n",
       "      <th>SECTOR_ID</th>\n",
       "      <th>DISTR_ID</th>\n",
       "      <th>Prov_id</th>\n",
       "      <th>Village</th>\n",
       "      <th>Cell</th>\n",
       "      <th>Sector</th>\n",
       "      <th>Province</th>\n",
       "      <th>CPU</th>\n",
       "    </tr>\n",
       "  </thead>\n",
       "  <tbody>\n",
       "    <tr>\n",
       "      <th>0</th>\n",
       "      <td>Nyarugenge</td>\n",
       "      <td>11010102</td>\n",
       "      <td>110101</td>\n",
       "      <td>1101</td>\n",
       "      <td>11</td>\n",
       "      <td>1</td>\n",
       "      <td>Gihanga</td>\n",
       "      <td>Akabahizi</td>\n",
       "      <td>Gitega</td>\n",
       "      <td>Kigali Town/Umujyi wa Kigali</td>\n",
       "      <td>NaN</td>\n",
       "    </tr>\n",
       "    <tr>\n",
       "      <th>1</th>\n",
       "      <td>Nyarugenge</td>\n",
       "      <td>11010103</td>\n",
       "      <td>110101</td>\n",
       "      <td>1101</td>\n",
       "      <td>11</td>\n",
       "      <td>1</td>\n",
       "      <td>Iterambere</td>\n",
       "      <td>Akabahizi</td>\n",
       "      <td>Gitega</td>\n",
       "      <td>Kigali Town/Umujyi wa Kigali</td>\n",
       "      <td>NaN</td>\n",
       "    </tr>\n",
       "    <tr>\n",
       "      <th>2</th>\n",
       "      <td>Nyarugenge</td>\n",
       "      <td>11010104</td>\n",
       "      <td>110101</td>\n",
       "      <td>1101</td>\n",
       "      <td>11</td>\n",
       "      <td>1</td>\n",
       "      <td>Izuba</td>\n",
       "      <td>Akabahizi</td>\n",
       "      <td>Gitega</td>\n",
       "      <td>Kigali Town/Umujyi wa Kigali</td>\n",
       "      <td>NaN</td>\n",
       "    </tr>\n",
       "    <tr>\n",
       "      <th>3</th>\n",
       "      <td>Nyarugenge</td>\n",
       "      <td>11010105</td>\n",
       "      <td>110101</td>\n",
       "      <td>1101</td>\n",
       "      <td>11</td>\n",
       "      <td>1</td>\n",
       "      <td>Nyaburanga</td>\n",
       "      <td>Akabahizi</td>\n",
       "      <td>Gitega</td>\n",
       "      <td>Kigali Town/Umujyi wa Kigali</td>\n",
       "      <td>NaN</td>\n",
       "    </tr>\n",
       "    <tr>\n",
       "      <th>4</th>\n",
       "      <td>Nyarugenge</td>\n",
       "      <td>11010106</td>\n",
       "      <td>110101</td>\n",
       "      <td>1101</td>\n",
       "      <td>11</td>\n",
       "      <td>1</td>\n",
       "      <td>Nyenyeri</td>\n",
       "      <td>Akabahizi</td>\n",
       "      <td>Gitega</td>\n",
       "      <td>Kigali Town/Umujyi wa Kigali</td>\n",
       "      <td>NaN</td>\n",
       "    </tr>\n",
       "  </tbody>\n",
       "</table>\n",
       "</div>"
      ],
      "text/plain": [
       "     District  VILLAGE_ID  CELL_ID  SECTOR_ID  DISTR_ID  Prov_id     Village  \\\n",
       "0  Nyarugenge    11010102   110101       1101        11        1     Gihanga   \n",
       "1  Nyarugenge    11010103   110101       1101        11        1  Iterambere   \n",
       "2  Nyarugenge    11010104   110101       1101        11        1       Izuba   \n",
       "3  Nyarugenge    11010105   110101       1101        11        1  Nyaburanga   \n",
       "4  Nyarugenge    11010106   110101       1101        11        1    Nyenyeri   \n",
       "\n",
       "        Cell  Sector                      Province  CPU  \n",
       "0  Akabahizi  Gitega  Kigali Town/Umujyi wa Kigali  NaN  \n",
       "1  Akabahizi  Gitega  Kigali Town/Umujyi wa Kigali  NaN  \n",
       "2  Akabahizi  Gitega  Kigali Town/Umujyi wa Kigali  NaN  \n",
       "3  Akabahizi  Gitega  Kigali Town/Umujyi wa Kigali  NaN  \n",
       "4  Akabahizi  Gitega  Kigali Town/Umujyi wa Kigali  NaN  "
      ]
     },
     "execution_count": 156,
     "metadata": {},
     "output_type": "execute_result"
    }
   ],
   "source": [
    "df.rename(columns={'DISTRICT': 'District', 'NAME': 'Village', 'CELL': 'Cell',  'SECTOR': 'Sector', 'PROV_ID': 'Prov_id',  'PROVINCE': 'Province'}, inplace=True)\n",
    "df.head()"
   ]
  },
  {
   "cell_type": "code",
   "execution_count": 157,
   "id": "efe4f131",
   "metadata": {},
   "outputs": [
    {
     "data": {
      "text/html": [
       "<div>\n",
       "<style scoped>\n",
       "    .dataframe tbody tr th:only-of-type {\n",
       "        vertical-align: middle;\n",
       "    }\n",
       "\n",
       "    .dataframe tbody tr th {\n",
       "        vertical-align: top;\n",
       "    }\n",
       "\n",
       "    .dataframe thead th {\n",
       "        text-align: right;\n",
       "    }\n",
       "</style>\n",
       "<table border=\"1\" class=\"dataframe\">\n",
       "  <thead>\n",
       "    <tr style=\"text-align: right;\">\n",
       "      <th></th>\n",
       "      <th>Prov_id</th>\n",
       "      <th>Province</th>\n",
       "      <th>District</th>\n",
       "      <th>Sector</th>\n",
       "      <th>Cell</th>\n",
       "      <th>Village</th>\n",
       "    </tr>\n",
       "  </thead>\n",
       "  <tbody>\n",
       "    <tr>\n",
       "      <th>0</th>\n",
       "      <td>1</td>\n",
       "      <td>Kigali Town/Umujyi wa Kigali</td>\n",
       "      <td>Nyarugenge</td>\n",
       "      <td>Gitega</td>\n",
       "      <td>Akabahizi</td>\n",
       "      <td>Gihanga</td>\n",
       "    </tr>\n",
       "    <tr>\n",
       "      <th>1</th>\n",
       "      <td>1</td>\n",
       "      <td>Kigali Town/Umujyi wa Kigali</td>\n",
       "      <td>Nyarugenge</td>\n",
       "      <td>Gitega</td>\n",
       "      <td>Akabahizi</td>\n",
       "      <td>Iterambere</td>\n",
       "    </tr>\n",
       "    <tr>\n",
       "      <th>2</th>\n",
       "      <td>1</td>\n",
       "      <td>Kigali Town/Umujyi wa Kigali</td>\n",
       "      <td>Nyarugenge</td>\n",
       "      <td>Gitega</td>\n",
       "      <td>Akabahizi</td>\n",
       "      <td>Izuba</td>\n",
       "    </tr>\n",
       "    <tr>\n",
       "      <th>3</th>\n",
       "      <td>1</td>\n",
       "      <td>Kigali Town/Umujyi wa Kigali</td>\n",
       "      <td>Nyarugenge</td>\n",
       "      <td>Gitega</td>\n",
       "      <td>Akabahizi</td>\n",
       "      <td>Nyaburanga</td>\n",
       "    </tr>\n",
       "    <tr>\n",
       "      <th>4</th>\n",
       "      <td>1</td>\n",
       "      <td>Kigali Town/Umujyi wa Kigali</td>\n",
       "      <td>Nyarugenge</td>\n",
       "      <td>Gitega</td>\n",
       "      <td>Akabahizi</td>\n",
       "      <td>Nyenyeri</td>\n",
       "    </tr>\n",
       "  </tbody>\n",
       "</table>\n",
       "</div>"
      ],
      "text/plain": [
       "   Prov_id                      Province    District  Sector       Cell  \\\n",
       "0        1  Kigali Town/Umujyi wa Kigali  Nyarugenge  Gitega  Akabahizi   \n",
       "1        1  Kigali Town/Umujyi wa Kigali  Nyarugenge  Gitega  Akabahizi   \n",
       "2        1  Kigali Town/Umujyi wa Kigali  Nyarugenge  Gitega  Akabahizi   \n",
       "3        1  Kigali Town/Umujyi wa Kigali  Nyarugenge  Gitega  Akabahizi   \n",
       "4        1  Kigali Town/Umujyi wa Kigali  Nyarugenge  Gitega  Akabahizi   \n",
       "\n",
       "      Village  \n",
       "0     Gihanga  \n",
       "1  Iterambere  \n",
       "2       Izuba  \n",
       "3  Nyaburanga  \n",
       "4    Nyenyeri  "
      ]
     },
     "execution_count": 157,
     "metadata": {},
     "output_type": "execute_result"
    }
   ],
   "source": [
    "df = df[['Prov_id', 'Province', 'District', 'Sector', 'Cell', 'Village']]\n",
    "df.head()"
   ]
  },
  {
   "cell_type": "code",
   "execution_count": 158,
   "id": "f149c75a",
   "metadata": {},
   "outputs": [
    {
     "data": {
      "text/plain": [
       "East/Iburasirazuba              3791\n",
       "West/Iburengerazuba             3617\n",
       "South/Amajyepfo                 3501\n",
       "North/Amajyaruguru              2744\n",
       "Kigali Town/Umujyi wa Kigali    1162\n",
       "Name: Province, dtype: int64"
      ]
     },
     "execution_count": 158,
     "metadata": {},
     "output_type": "execute_result"
    }
   ],
   "source": [
    "df['Province'].value_counts()"
   ]
  },
  {
   "cell_type": "code",
   "execution_count": 159,
   "id": "9f186580",
   "metadata": {},
   "outputs": [
    {
     "data": {
      "text/plain": [
       "30"
      ]
     },
     "execution_count": 159,
     "metadata": {},
     "output_type": "execute_result"
    }
   ],
   "source": [
    "len(df.District.unique())"
   ]
  },
  {
   "cell_type": "code",
   "execution_count": 160,
   "id": "507d449a",
   "metadata": {},
   "outputs": [
    {
     "data": {
      "text/html": [
       "<div>\n",
       "<style scoped>\n",
       "    .dataframe tbody tr th:only-of-type {\n",
       "        vertical-align: middle;\n",
       "    }\n",
       "\n",
       "    .dataframe tbody tr th {\n",
       "        vertical-align: top;\n",
       "    }\n",
       "\n",
       "    .dataframe thead th {\n",
       "        text-align: right;\n",
       "    }\n",
       "</style>\n",
       "<table border=\"1\" class=\"dataframe\">\n",
       "  <thead>\n",
       "    <tr style=\"text-align: right;\">\n",
       "      <th></th>\n",
       "      <th>Prov_id</th>\n",
       "      <th>Province</th>\n",
       "      <th>District</th>\n",
       "      <th>Sector</th>\n",
       "      <th>Cell</th>\n",
       "      <th>Village</th>\n",
       "    </tr>\n",
       "  </thead>\n",
       "  <tbody>\n",
       "    <tr>\n",
       "      <th>0</th>\n",
       "      <td>1</td>\n",
       "      <td>Kigali</td>\n",
       "      <td>Nyarugenge</td>\n",
       "      <td>Gitega</td>\n",
       "      <td>Akabahizi</td>\n",
       "      <td>Gihanga</td>\n",
       "    </tr>\n",
       "    <tr>\n",
       "      <th>1</th>\n",
       "      <td>1</td>\n",
       "      <td>Kigali</td>\n",
       "      <td>Nyarugenge</td>\n",
       "      <td>Gitega</td>\n",
       "      <td>Akabahizi</td>\n",
       "      <td>Iterambere</td>\n",
       "    </tr>\n",
       "    <tr>\n",
       "      <th>2</th>\n",
       "      <td>1</td>\n",
       "      <td>Kigali</td>\n",
       "      <td>Nyarugenge</td>\n",
       "      <td>Gitega</td>\n",
       "      <td>Akabahizi</td>\n",
       "      <td>Izuba</td>\n",
       "    </tr>\n",
       "    <tr>\n",
       "      <th>3</th>\n",
       "      <td>1</td>\n",
       "      <td>Kigali</td>\n",
       "      <td>Nyarugenge</td>\n",
       "      <td>Gitega</td>\n",
       "      <td>Akabahizi</td>\n",
       "      <td>Nyaburanga</td>\n",
       "    </tr>\n",
       "    <tr>\n",
       "      <th>4</th>\n",
       "      <td>1</td>\n",
       "      <td>Kigali</td>\n",
       "      <td>Nyarugenge</td>\n",
       "      <td>Gitega</td>\n",
       "      <td>Akabahizi</td>\n",
       "      <td>Nyenyeri</td>\n",
       "    </tr>\n",
       "  </tbody>\n",
       "</table>\n",
       "</div>"
      ],
      "text/plain": [
       "   Prov_id Province    District  Sector       Cell     Village\n",
       "0        1   Kigali  Nyarugenge  Gitega  Akabahizi     Gihanga\n",
       "1        1   Kigali  Nyarugenge  Gitega  Akabahizi  Iterambere\n",
       "2        1   Kigali  Nyarugenge  Gitega  Akabahizi       Izuba\n",
       "3        1   Kigali  Nyarugenge  Gitega  Akabahizi  Nyaburanga\n",
       "4        1   Kigali  Nyarugenge  Gitega  Akabahizi    Nyenyeri"
      ]
     },
     "execution_count": 160,
     "metadata": {},
     "output_type": "execute_result"
    }
   ],
   "source": [
    "# Function to rename provinces\n",
    "\n",
    "def rename_province(row):\n",
    "    row['Province'] = row['Province'].split('/')[0]\n",
    "    if row['Province'] == 'Kigali Town':\n",
    "        row['Province'] = 'Kigali'\n",
    "\n",
    "    return row\n",
    "\n",
    "df = df.apply(rename_province, axis=\"columns\")\n",
    "df.head()"
   ]
  },
  {
   "cell_type": "code",
   "execution_count": 161,
   "id": "219c554f",
   "metadata": {},
   "outputs": [
    {
     "data": {
      "text/html": [
       "<div>\n",
       "<style scoped>\n",
       "    .dataframe tbody tr th:only-of-type {\n",
       "        vertical-align: middle;\n",
       "    }\n",
       "\n",
       "    .dataframe tbody tr th {\n",
       "        vertical-align: top;\n",
       "    }\n",
       "\n",
       "    .dataframe thead th {\n",
       "        text-align: right;\n",
       "    }\n",
       "</style>\n",
       "<table border=\"1\" class=\"dataframe\">\n",
       "  <thead>\n",
       "    <tr style=\"text-align: right;\">\n",
       "      <th></th>\n",
       "      <th>Prov_id</th>\n",
       "      <th>Province</th>\n",
       "      <th>District</th>\n",
       "      <th>Sector</th>\n",
       "      <th>Cell</th>\n",
       "      <th>Village</th>\n",
       "    </tr>\n",
       "  </thead>\n",
       "  <tbody>\n",
       "    <tr>\n",
       "      <th>0</th>\n",
       "      <td>1</td>\n",
       "      <td>Kigali</td>\n",
       "      <td>Nyarugenge</td>\n",
       "      <td>Gitega</td>\n",
       "      <td>Akabahizi</td>\n",
       "      <td>Gihanga</td>\n",
       "    </tr>\n",
       "    <tr>\n",
       "      <th>1</th>\n",
       "      <td>1</td>\n",
       "      <td>Kigali</td>\n",
       "      <td>Nyarugenge</td>\n",
       "      <td>Gitega</td>\n",
       "      <td>Akabahizi</td>\n",
       "      <td>Iterambere</td>\n",
       "    </tr>\n",
       "    <tr>\n",
       "      <th>2</th>\n",
       "      <td>1</td>\n",
       "      <td>Kigali</td>\n",
       "      <td>Nyarugenge</td>\n",
       "      <td>Gitega</td>\n",
       "      <td>Akabahizi</td>\n",
       "      <td>Izuba</td>\n",
       "    </tr>\n",
       "    <tr>\n",
       "      <th>3</th>\n",
       "      <td>1</td>\n",
       "      <td>Kigali</td>\n",
       "      <td>Nyarugenge</td>\n",
       "      <td>Gitega</td>\n",
       "      <td>Akabahizi</td>\n",
       "      <td>Nyaburanga</td>\n",
       "    </tr>\n",
       "    <tr>\n",
       "      <th>4</th>\n",
       "      <td>1</td>\n",
       "      <td>Kigali</td>\n",
       "      <td>Nyarugenge</td>\n",
       "      <td>Gitega</td>\n",
       "      <td>Akabahizi</td>\n",
       "      <td>Nyenyeri</td>\n",
       "    </tr>\n",
       "  </tbody>\n",
       "</table>\n",
       "</div>"
      ],
      "text/plain": [
       "   Prov_id Province    District  Sector       Cell     Village\n",
       "0        1   Kigali  Nyarugenge  Gitega  Akabahizi     Gihanga\n",
       "1        1   Kigali  Nyarugenge  Gitega  Akabahizi  Iterambere\n",
       "2        1   Kigali  Nyarugenge  Gitega  Akabahizi       Izuba\n",
       "3        1   Kigali  Nyarugenge  Gitega  Akabahizi  Nyaburanga\n",
       "4        1   Kigali  Nyarugenge  Gitega  Akabahizi    Nyenyeri"
      ]
     },
     "execution_count": 161,
     "metadata": {},
     "output_type": "execute_result"
    }
   ],
   "source": [
    "# Function to rename mageregere to mageragere\n",
    "\n",
    "def rename_mageregere(row):\n",
    "    if row['Sector'] == 'Mageregere':\n",
    "        row['Sector'] = 'Mageragere'\n",
    "    return row\n",
    "\n",
    "df = df.apply(rename_mageregere, axis=\"columns\")\n",
    "df.head()"
   ]
  },
  {
   "cell_type": "code",
   "execution_count": 162,
   "id": "cda361ae",
   "metadata": {},
   "outputs": [
    {
     "data": {
      "text/html": [
       "<div>\n",
       "<style scoped>\n",
       "    .dataframe tbody tr th:only-of-type {\n",
       "        vertical-align: middle;\n",
       "    }\n",
       "\n",
       "    .dataframe tbody tr th {\n",
       "        vertical-align: top;\n",
       "    }\n",
       "\n",
       "    .dataframe thead th {\n",
       "        text-align: right;\n",
       "    }\n",
       "</style>\n",
       "<table border=\"1\" class=\"dataframe\">\n",
       "  <thead>\n",
       "    <tr style=\"text-align: right;\">\n",
       "      <th></th>\n",
       "      <th>Prov_id</th>\n",
       "      <th>Province</th>\n",
       "      <th>District</th>\n",
       "      <th>Sector</th>\n",
       "      <th>Cell</th>\n",
       "      <th>Village</th>\n",
       "    </tr>\n",
       "  </thead>\n",
       "  <tbody>\n",
       "    <tr>\n",
       "      <th>0</th>\n",
       "      <td>1</td>\n",
       "      <td>Kigali</td>\n",
       "      <td>Nyarugenge</td>\n",
       "      <td>Gitega</td>\n",
       "      <td>Akabahizi</td>\n",
       "      <td>Gihanga</td>\n",
       "    </tr>\n",
       "    <tr>\n",
       "      <th>1</th>\n",
       "      <td>1</td>\n",
       "      <td>Kigali</td>\n",
       "      <td>Nyarugenge</td>\n",
       "      <td>Gitega</td>\n",
       "      <td>Akabahizi</td>\n",
       "      <td>Iterambere</td>\n",
       "    </tr>\n",
       "    <tr>\n",
       "      <th>2</th>\n",
       "      <td>1</td>\n",
       "      <td>Kigali</td>\n",
       "      <td>Nyarugenge</td>\n",
       "      <td>Gitega</td>\n",
       "      <td>Akabahizi</td>\n",
       "      <td>Izuba</td>\n",
       "    </tr>\n",
       "    <tr>\n",
       "      <th>3</th>\n",
       "      <td>1</td>\n",
       "      <td>Kigali</td>\n",
       "      <td>Nyarugenge</td>\n",
       "      <td>Gitega</td>\n",
       "      <td>Akabahizi</td>\n",
       "      <td>Nyaburanga</td>\n",
       "    </tr>\n",
       "    <tr>\n",
       "      <th>4</th>\n",
       "      <td>1</td>\n",
       "      <td>Kigali</td>\n",
       "      <td>Nyarugenge</td>\n",
       "      <td>Gitega</td>\n",
       "      <td>Akabahizi</td>\n",
       "      <td>Nyenyeri</td>\n",
       "    </tr>\n",
       "  </tbody>\n",
       "</table>\n",
       "</div>"
      ],
      "text/plain": [
       "   Prov_id Province    District  Sector       Cell     Village\n",
       "0        1   Kigali  Nyarugenge  Gitega  Akabahizi     Gihanga\n",
       "1        1   Kigali  Nyarugenge  Gitega  Akabahizi  Iterambere\n",
       "2        1   Kigali  Nyarugenge  Gitega  Akabahizi       Izuba\n",
       "3        1   Kigali  Nyarugenge  Gitega  Akabahizi  Nyaburanga\n",
       "4        1   Kigali  Nyarugenge  Gitega  Akabahizi    Nyenyeri"
      ]
     },
     "execution_count": 162,
     "metadata": {},
     "output_type": "execute_result"
    }
   ],
   "source": [
    "# Function to rename rudashaya to ruhashya\n",
    "\n",
    "def rename_rudashya(row):\n",
    "    if row['Sector'] == 'Rudashya':\n",
    "        row['Sector'] = 'Ruhashya'\n",
    "    return row\n",
    "\n",
    "df = df.apply(rename_rudashya, axis=\"columns\")\n",
    "df.head()"
   ]
  },
  {
   "cell_type": "code",
   "execution_count": 163,
   "id": "00a8f0b9",
   "metadata": {},
   "outputs": [
    {
     "data": {
      "text/html": [
       "<div>\n",
       "<style scoped>\n",
       "    .dataframe tbody tr th:only-of-type {\n",
       "        vertical-align: middle;\n",
       "    }\n",
       "\n",
       "    .dataframe tbody tr th {\n",
       "        vertical-align: top;\n",
       "    }\n",
       "\n",
       "    .dataframe thead th {\n",
       "        text-align: right;\n",
       "    }\n",
       "</style>\n",
       "<table border=\"1\" class=\"dataframe\">\n",
       "  <thead>\n",
       "    <tr style=\"text-align: right;\">\n",
       "      <th></th>\n",
       "      <th>Prov_id</th>\n",
       "      <th>Province</th>\n",
       "      <th>District</th>\n",
       "      <th>Sector</th>\n",
       "      <th>Cell</th>\n",
       "      <th>Village</th>\n",
       "    </tr>\n",
       "  </thead>\n",
       "  <tbody>\n",
       "    <tr>\n",
       "      <th>0</th>\n",
       "      <td>1</td>\n",
       "      <td>Kigali</td>\n",
       "      <td>Nyarugenge</td>\n",
       "      <td>Gitega</td>\n",
       "      <td>Akabahizi</td>\n",
       "      <td>Gihanga</td>\n",
       "    </tr>\n",
       "    <tr>\n",
       "      <th>1</th>\n",
       "      <td>1</td>\n",
       "      <td>Kigali</td>\n",
       "      <td>Nyarugenge</td>\n",
       "      <td>Gitega</td>\n",
       "      <td>Akabahizi</td>\n",
       "      <td>Iterambere</td>\n",
       "    </tr>\n",
       "    <tr>\n",
       "      <th>2</th>\n",
       "      <td>1</td>\n",
       "      <td>Kigali</td>\n",
       "      <td>Nyarugenge</td>\n",
       "      <td>Gitega</td>\n",
       "      <td>Akabahizi</td>\n",
       "      <td>Izuba</td>\n",
       "    </tr>\n",
       "    <tr>\n",
       "      <th>3</th>\n",
       "      <td>1</td>\n",
       "      <td>Kigali</td>\n",
       "      <td>Nyarugenge</td>\n",
       "      <td>Gitega</td>\n",
       "      <td>Akabahizi</td>\n",
       "      <td>Nyaburanga</td>\n",
       "    </tr>\n",
       "    <tr>\n",
       "      <th>4</th>\n",
       "      <td>1</td>\n",
       "      <td>Kigali</td>\n",
       "      <td>Nyarugenge</td>\n",
       "      <td>Gitega</td>\n",
       "      <td>Akabahizi</td>\n",
       "      <td>Nyenyeri</td>\n",
       "    </tr>\n",
       "  </tbody>\n",
       "</table>\n",
       "</div>"
      ],
      "text/plain": [
       "   Prov_id Province    District  Sector       Cell     Village\n",
       "0        1   Kigali  Nyarugenge  Gitega  Akabahizi     Gihanga\n",
       "1        1   Kigali  Nyarugenge  Gitega  Akabahizi  Iterambere\n",
       "2        1   Kigali  Nyarugenge  Gitega  Akabahizi       Izuba\n",
       "3        1   Kigali  Nyarugenge  Gitega  Akabahizi  Nyaburanga\n",
       "4        1   Kigali  Nyarugenge  Gitega  Akabahizi    Nyenyeri"
      ]
     },
     "execution_count": 163,
     "metadata": {},
     "output_type": "execute_result"
    }
   ],
   "source": [
    "# Capitalize evertything everything in the db\n",
    "\n",
    "def capitalize_all_data(row):\n",
    "    cols = ['Province', 'District', 'Sector', 'Cell', 'Village']\n",
    "    for col in cols:\n",
    "        row[col] = row[col].capitalize()\n",
    "    return row\n",
    "\n",
    "df = df.apply(capitalize_all_data, axis=\"columns\")\n",
    "df.head()"
   ]
  },
  {
   "cell_type": "code",
   "execution_count": 164,
   "id": "1c86c5f8",
   "metadata": {},
   "outputs": [],
   "source": [
    "# save the DATAFRAME\n",
    "\n",
    "df.to_csv('rwanda_dataset.csv', index = False, header = True)"
   ]
  },
  {
   "cell_type": "markdown",
   "id": "af64145d",
   "metadata": {},
   "source": [
    "# Start working on package logic"
   ]
  },
  {
   "cell_type": "code",
   "execution_count": 165,
   "id": "bf2c5409",
   "metadata": {},
   "outputs": [
    {
     "data": {
      "text/html": [
       "<div>\n",
       "<style scoped>\n",
       "    .dataframe tbody tr th:only-of-type {\n",
       "        vertical-align: middle;\n",
       "    }\n",
       "\n",
       "    .dataframe tbody tr th {\n",
       "        vertical-align: top;\n",
       "    }\n",
       "\n",
       "    .dataframe thead th {\n",
       "        text-align: right;\n",
       "    }\n",
       "</style>\n",
       "<table border=\"1\" class=\"dataframe\">\n",
       "  <thead>\n",
       "    <tr style=\"text-align: right;\">\n",
       "      <th></th>\n",
       "      <th>Prov_id</th>\n",
       "      <th>Province</th>\n",
       "      <th>District</th>\n",
       "      <th>Sector</th>\n",
       "      <th>Cell</th>\n",
       "      <th>Village</th>\n",
       "    </tr>\n",
       "  </thead>\n",
       "  <tbody>\n",
       "    <tr>\n",
       "      <th>0</th>\n",
       "      <td>1</td>\n",
       "      <td>Kigali</td>\n",
       "      <td>Nyarugenge</td>\n",
       "      <td>Gitega</td>\n",
       "      <td>Akabahizi</td>\n",
       "      <td>Gihanga</td>\n",
       "    </tr>\n",
       "    <tr>\n",
       "      <th>1</th>\n",
       "      <td>1</td>\n",
       "      <td>Kigali</td>\n",
       "      <td>Nyarugenge</td>\n",
       "      <td>Gitega</td>\n",
       "      <td>Akabahizi</td>\n",
       "      <td>Iterambere</td>\n",
       "    </tr>\n",
       "    <tr>\n",
       "      <th>2</th>\n",
       "      <td>1</td>\n",
       "      <td>Kigali</td>\n",
       "      <td>Nyarugenge</td>\n",
       "      <td>Gitega</td>\n",
       "      <td>Akabahizi</td>\n",
       "      <td>Izuba</td>\n",
       "    </tr>\n",
       "    <tr>\n",
       "      <th>3</th>\n",
       "      <td>1</td>\n",
       "      <td>Kigali</td>\n",
       "      <td>Nyarugenge</td>\n",
       "      <td>Gitega</td>\n",
       "      <td>Akabahizi</td>\n",
       "      <td>Nyaburanga</td>\n",
       "    </tr>\n",
       "    <tr>\n",
       "      <th>4</th>\n",
       "      <td>1</td>\n",
       "      <td>Kigali</td>\n",
       "      <td>Nyarugenge</td>\n",
       "      <td>Gitega</td>\n",
       "      <td>Akabahizi</td>\n",
       "      <td>Nyenyeri</td>\n",
       "    </tr>\n",
       "  </tbody>\n",
       "</table>\n",
       "</div>"
      ],
      "text/plain": [
       "   Prov_id Province    District  Sector       Cell     Village\n",
       "0        1   Kigali  Nyarugenge  Gitega  Akabahizi     Gihanga\n",
       "1        1   Kigali  Nyarugenge  Gitega  Akabahizi  Iterambere\n",
       "2        1   Kigali  Nyarugenge  Gitega  Akabahizi       Izuba\n",
       "3        1   Kigali  Nyarugenge  Gitega  Akabahizi  Nyaburanga\n",
       "4        1   Kigali  Nyarugenge  Gitega  Akabahizi    Nyenyeri"
      ]
     },
     "execution_count": 165,
     "metadata": {},
     "output_type": "execute_result"
    }
   ],
   "source": [
    "import pandas as pd\n",
    "\n",
    "df = pd.read_csv('rwanda_dataset.csv')\n",
    "df.head()"
   ]
  },
  {
   "cell_type": "code",
   "execution_count": 166,
   "id": "a9be4ef3",
   "metadata": {},
   "outputs": [
    {
     "data": {
      "text/plain": [
       "Index(['Prov_id', 'Province', 'District', 'Sector', 'Cell', 'Village'], dtype='object')"
      ]
     },
     "execution_count": 166,
     "metadata": {},
     "output_type": "execute_result"
    }
   ],
   "source": [
    "df.columns"
   ]
  },
  {
   "cell_type": "code",
   "execution_count": 167,
   "id": "dd8d7111",
   "metadata": {},
   "outputs": [],
   "source": [
    "# Format the input\n",
    "def format_input(name: str) -> str:\n",
    "    return name.strip().capitalize()"
   ]
  },
  {
   "cell_type": "code",
   "execution_count": 168,
   "id": "b74cb4a4",
   "metadata": {},
   "outputs": [],
   "source": [
    "# Return ndaary into list\n",
    "\n",
    "def convert_ndarray(array):\n",
    "    return [i for i in array]"
   ]
  },
  {
   "cell_type": "code",
   "execution_count": 169,
   "id": "0eeb9d6b",
   "metadata": {},
   "outputs": [
    {
     "name": "stdout",
     "output_type": "stream",
     "text": [
      "['Kigali', 'South', 'West', 'North', 'East']\n"
     ]
    },
    {
     "data": {
      "text/plain": [
       "0.012446599999748287"
      ]
     },
     "execution_count": 169,
     "metadata": {},
     "output_type": "execute_result"
    }
   ],
   "source": [
    "# Function to get all provinces\n",
    "\n",
    "def get_provinces() -> list:\n",
    "    return convert_ndarray(df['Province'].unique())\n",
    "\n",
    "print(get_provinces())\n",
    "timeit.timeit(get_provinces, number=10)"
   ]
  },
  {
   "cell_type": "code",
   "execution_count": 170,
   "id": "a3e674a2",
   "metadata": {},
   "outputs": [
    {
     "data": {
      "text/plain": [
       "array(['Nyarugenge', 'Gasabo', 'Kicukiro'], dtype=object)"
      ]
     },
     "execution_count": 170,
     "metadata": {},
     "output_type": "execute_result"
    }
   ],
   "source": [
    "import timeit\n",
    "# provinces_and_district = df[['Province', 'District']]\n",
    "# provinces_and_district.groupby(['Province']).get_group('Kigali')['District'].unique()\n",
    "\n",
    "df[df['Province'] == 'Kigali']['District'].unique()"
   ]
  },
  {
   "cell_type": "code",
   "execution_count": 198,
   "id": "72ce014c",
   "metadata": {},
   "outputs": [
    {
     "name": "stdout",
     "output_type": "stream",
     "text": [
      "[]\n"
     ]
    },
    {
     "data": {
      "text/plain": [
       "0.01256670000111626"
      ]
     },
     "execution_count": 198,
     "metadata": {},
     "output_type": "execute_result"
    }
   ],
   "source": [
    "# Function to get all district of the province\n",
    "\n",
    "def get_districts(province = '') -> list:\n",
    "    if province:\n",
    "        #provinces_and_districts_df = df[['Province', 'District']]\n",
    "        #province_group = provinces_and_districts_df.groupby(['Province'])\n",
    "        #districts = province_group.get_group(format_input(province))['District'].unique()\n",
    "        #return [district for district in districts]\n",
    "        return [district for district in df[df['Province'] == format_input(province)]['District'].unique()]\n",
    "    if not province:\n",
    "        return [district for district in df['District'].unique()]\n",
    "    \n",
    "print(get_districts('KigalIx'))\n",
    "timeit.timeit(get_districts, number=10)"
   ]
  },
  {
   "cell_type": "code",
   "execution_count": 201,
   "id": "aadc9d37",
   "metadata": {},
   "outputs": [
    {
     "name": "stdout",
     "output_type": "stream",
     "text": [
      "None\n"
     ]
    },
    {
     "data": {
      "text/plain": [
       "0.37064490000011574"
      ]
     },
     "execution_count": 201,
     "metadata": {},
     "output_type": "execute_result"
    }
   ],
   "source": [
    "# Function to get sectors\n",
    "\n",
    "def get_sectors(province = '', district = ''):\n",
    "    try:\n",
    "        if province and district and len(get_districts(province)):\n",
    "            sectors = df[df['District'] == format_input(district)]['Sector'].unique()\n",
    "            return convert_ndarray(sectors)\n",
    "        if not province and not district:\n",
    "            sectors = [sector for province in get_provinces() for district in get_districts(province) for sector in df[df['District'] == district]['Sector'].unique() ]\n",
    "            return sectors\n",
    "    except:\n",
    "        return None\n",
    "\n",
    "sectors = get_sectors('kigalix', 'nyarugenge')\n",
    "print(sectors)\n",
    "timeit.timeit(get_sectors, number=10)"
   ]
  },
  {
   "cell_type": "code",
   "execution_count": 146,
   "id": "458a2334",
   "metadata": {},
   "outputs": [
    {
     "name": "stdout",
     "output_type": "stream",
     "text": [
      "Lenght== 15\n",
      "['Gishamvu' 'Huye' 'Karama' 'Kigoma' 'Kinazi' 'Maraba' 'Mbazi' 'Mukura'\n",
      " 'Ngoma' 'Ruhashya' 'Rudashya' 'Rusatira' 'Rwaniro' 'Simbi' 'Tumba']\n"
     ]
    }
   ],
   "source": [
    "def get_sector_in_district(dstr):\n",
    "    provinces_and_district = df[['District', 'Sector']]\n",
    "    print('Lenght==', len(provinces_and_district.groupby(['District']).get_group(dstr)['Sector'].unique()))\n",
    "    print(provinces_and_district.groupby(['District']).get_group(dstr)['Sector'].unique())\n",
    "    pass\n",
    "\n",
    "get_sector_in_district(format_input('HUYE'))\n"
   ]
  },
  {
   "cell_type": "code",
   "execution_count": 187,
   "id": "ac4b266b",
   "metadata": {},
   "outputs": [
    {
     "data": {
      "text/plain": [
       "array(['Gitega', 'Kanyinya', 'Kigali', 'Kimisagara', 'Mageragere',\n",
       "       'Muhima', 'Nyakabanda', 'Nyamirambo', 'Nyarugenge', 'Rwezamenyo'],\n",
       "      dtype=object)"
      ]
     },
     "execution_count": 187,
     "metadata": {},
     "output_type": "execute_result"
    }
   ],
   "source": [
    "df[df['District'] == 'Nyarugenge']['Sector'].unique()"
   ]
  }
 ],
 "metadata": {
  "kernelspec": {
   "display_name": "Python 3",
   "language": "python",
   "name": "python3"
  },
  "language_info": {
   "codemirror_mode": {
    "name": "ipython",
    "version": 3
   },
   "file_extension": ".py",
   "mimetype": "text/x-python",
   "name": "python",
   "nbconvert_exporter": "python",
   "pygments_lexer": "ipython3",
   "version": "3.8.8"
  }
 },
 "nbformat": 4,
 "nbformat_minor": 5
}
